{
 "cells": [
  {
   "cell_type": "code",
   "execution_count": 1,
   "id": "62590298-9a09-4964-8e06-e08a3bb5a7ef",
   "metadata": {},
   "outputs": [],
   "source": [
    "import pandas as pd\n",
    "import numpy as np\n",
    "import time\n",
    "import torch\n",
    "from sklearn.linear_model import LogisticRegression\n",
    "from sklearn.metrics import classification_report, accuracy_score\n",
    "from transformers import BertTokenizer, BertModel\n",
    "from sklearn.model_selection import train_test_split\n",
    "from tqdm.notebook import tqdm "
   ]
  },
  {
   "cell_type": "code",
   "execution_count": 3,
   "id": "173be2be-24ef-4c3e-b54d-ee9724a90609",
   "metadata": {},
   "outputs": [],
   "source": [
    "# Mise en forme dataset ISOT https://www.kaggle.com/datasets/csmalarkodi/isot-fake-news-dataset/\n",
    "Isot_true_df = pd.read_csv(\"data/True.csv\")\n",
    "Isot_fake_df = pd.read_csv(\"data/Fake.csv\")\n",
    "\n",
    "#Création d'un dataset unique\n",
    "\n",
    "Isot_true_df[\"label\"] = 0  # Vraie news\n",
    "Isot_fake_df[\"label\"] = 1  # Fake news\n",
    "\n",
    "Isot_data = pd.concat([Isot_true_df, Isot_fake_df], ignore_index=True)\n",
    "\n",
    "Isot = Isot_data[['text', 'label']]"
   ]
  },
  {
   "cell_type": "code",
   "execution_count": 4,
   "id": "3089d2bc-c425-4778-818e-4e30b3b6c806",
   "metadata": {},
   "outputs": [],
   "source": [
    "# Mise en forme dataset Fake_News https://www.kaggle.com/competitions/fake-news/data?select=train.csv\n",
    "fake_news_data = pd.read_csv(\"data/train.csv\")\n",
    "\n",
    "fake_news_data = fake_news_data.dropna(subset=['text'])\n",
    "\n",
    "fake_news = fake_news_data[['text', 'label']]"
   ]
  },
  {
   "cell_type": "code",
   "execution_count": 7,
   "id": "e4a859aa-11e7-4947-af95-66f957951023",
   "metadata": {},
   "outputs": [],
   "source": [
    "# Mise en forme dataset Fake_real https://www.kaggle.com/datasets/jillanisofttech/fake-or-real-news\n",
    "fake_real_data = pd.read_csv(\"data/fake_or_real_news.csv\")\n",
    "fake_real_data['label'] = fake_real_data['label'].map({'FAKE': 1, 'REAL': 0})\n",
    "\n",
    "# On ne garde que le label et le text de l'article et on lemmatize\n",
    "fake_real = fake_real_data[['text', 'label']]"
   ]
  },
  {
   "cell_type": "markdown",
   "id": "39cb3e4c-b59c-4205-b1b0-42b84838e98e",
   "metadata": {},
   "source": [
    "# Tokenisation avec Bert"
   ]
  },
  {
   "cell_type": "code",
   "execution_count": 14,
   "id": "3e0757d4-cdb0-4838-a4d2-ff0dc41a2d0d",
   "metadata": {},
   "outputs": [],
   "source": [
    "# Tokeniser Bert\n",
    "tokenizer = BertTokenizer.from_pretrained('bert-base-uncased')\n",
    "\n",
    "bert_model = BertModel.from_pretrained('bert-base-uncased')\n",
    "bert_model.eval()\n",
    "\n",
    "def get_bert_embedding(text):\n",
    "    inputs = tokenizer(text, return_tensors=\"pt\", truncation=True, padding=True, max_length=512)\n",
    "    with torch.no_grad():  # Pas besoin de calculer les gradients\n",
    "        outputs = bert_model(**inputs)\n",
    "    cls_embedding = outputs.last_hidden_state[:, 0, :]  # On prend le vecteur [CLS]\n",
    "    return cls_embedding.squeeze().numpy()\n"
   ]
  },
  {
   "cell_type": "code",
   "execution_count": null,
   "id": "b49b3009-55d9-4f78-b2d8-0983bd103a26",
   "metadata": {},
   "outputs": [
    {
     "data": {
      "application/vnd.jupyter.widget-view+json": {
       "model_id": "d1646137a8f54fbfbeb03ad66fdbff80",
       "version_major": 2,
       "version_minor": 0
      },
      "text/plain": [
       "Extraction des embeddings:   0%|          | 0/44898 [00:00<?, ?it/s]"
      ]
     },
     "metadata": {},
     "output_type": "display_data"
    }
   ],
   "source": [
    "# Extraire les embeddings avec BERT\n",
    "start_time = time.time()\n",
    "embeddings = []\n",
    "for text in tqdm(Isot['text'], desc=\"Extraction des embeddings\"):\n",
    "    emb = get_bert_embedding(text)\n",
    "    embeddings.append(emb.numpy())\n",
    "emb_duration = time.time() - start_time\n",
    "\n",
    "print(f\"embedding terminé en {emb_duration:.2f} secondes.\")\n",
    "\n",
    "X = torch.tensor(embeddings)\n",
    "y = torch.tensor(Isot['label'].values)"
   ]
  },
  {
   "cell_type": "code",
   "execution_count": null,
   "id": "e80416cb-ea11-46f0-a298-01110f5ac477",
   "metadata": {},
   "outputs": [],
   "source": [
    "# Split et entraînement \n",
    "X_train, X_test, y_train, y_test = train_test_split(X, y, test_size=0.2, random_state=42)\n",
    "\n",
    "clf = LogisticRegression(max_iter=1000)\n",
    "clf.fit(X_train, y_train)\n",
    "\n",
    "y_pred = clf.predict(X_test)\n",
    "\n",
    "print(\"Accuracy:\", accuracy_score(y_test, y_pred))\n",
    "print(classification_report(y_test, y_pred))"
   ]
  }
 ],
 "metadata": {
  "kernelspec": {
   "display_name": "Python [conda env:base] *",
   "language": "python",
   "name": "conda-base-py"
  },
  "language_info": {
   "codemirror_mode": {
    "name": "ipython",
    "version": 3
   },
   "file_extension": ".py",
   "mimetype": "text/x-python",
   "name": "python",
   "nbconvert_exporter": "python",
   "pygments_lexer": "ipython3",
   "version": "3.12.7"
  }
 },
 "nbformat": 4,
 "nbformat_minor": 5
}
