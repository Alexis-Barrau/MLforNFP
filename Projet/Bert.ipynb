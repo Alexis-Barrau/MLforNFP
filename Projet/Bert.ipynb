{
 "cells": [
  {
   "cell_type": "code",
   "execution_count": 16,
   "id": "62590298-9a09-4964-8e06-e08a3bb5a7ef",
   "metadata": {},
   "outputs": [],
   "source": [
    "import pandas as pd\n",
    "import torch\n",
    "from transformers import BertTokenizer, BertModel\n",
    "from sklearn.linear_model import LogisticRegression\n",
    "from sklearn.model_selection import train_test_split\n",
    "from sklearn.metrics import classification_report, accuracy_score, confusion_matrix\n",
    "from tqdm import tqdm\n",
    "import numpy as np\n",
    "import time"
   ]
  },
  {
   "cell_type": "code",
   "execution_count": 2,
   "id": "4ec82ff7-5caa-4115-a4b4-bf3b3274f12e",
   "metadata": {},
   "outputs": [
    {
     "name": "stdout",
     "output_type": "stream",
     "text": [
      "GPU disponible : True\n",
      "Nom du GPU : NVIDIA A2\n"
     ]
    }
   ],
   "source": [
    "print(\"GPU disponible :\", torch.cuda.is_available())\n",
    "print(\"Nom du GPU :\", torch.cuda.get_device_name(0) if torch.cuda.is_available() else \"Aucun\")"
   ]
  },
  {
   "cell_type": "code",
   "execution_count": 3,
   "id": "173be2be-24ef-4c3e-b54d-ee9724a90609",
   "metadata": {},
   "outputs": [],
   "source": [
    "# Mise en forme dataset ISOT https://www.kaggle.com/datasets/csmalarkodi/isot-fake-news-dataset/\n",
    "Isot_true_df = pd.read_csv(\"data/True.csv\")\n",
    "Isot_fake_df = pd.read_csv(\"data/Fake.csv\")\n",
    "\n",
    "#Création d'un dataset unique\n",
    "\n",
    "Isot_true_df[\"label\"] = 0  # Vraie news\n",
    "Isot_fake_df[\"label\"] = 1  # Fake news\n",
    "\n",
    "Isot_data = pd.concat([Isot_true_df, Isot_fake_df], ignore_index=True)\n",
    "\n",
    "Isot = Isot_data[['text', 'label']]"
   ]
  },
  {
   "cell_type": "code",
   "execution_count": 4,
   "id": "3089d2bc-c425-4778-818e-4e30b3b6c806",
   "metadata": {},
   "outputs": [],
   "source": [
    "# Mise en forme dataset Fake_News https://www.kaggle.com/competitions/fake-news/data?select=train.csv\n",
    "fake_news_data = pd.read_csv(\"data/train.csv\")\n",
    "\n",
    "fake_news_data = fake_news_data.dropna(subset=['text'])\n",
    "\n",
    "fake_news = fake_news_data[['text', 'label']]"
   ]
  },
  {
   "cell_type": "code",
   "execution_count": 5,
   "id": "e4a859aa-11e7-4947-af95-66f957951023",
   "metadata": {},
   "outputs": [],
   "source": [
    "# Mise en forme dataset Fake_real https://www.kaggle.com/datasets/jillanisofttech/fake-or-real-news\n",
    "fake_real_data = pd.read_csv(\"data/fake_or_real_news.csv\")\n",
    "fake_real_data['label'] = fake_real_data['label'].map({'FAKE': 1, 'REAL': 0})\n",
    "\n",
    "# On ne garde que le label et le text de l'article et on lemmatize\n",
    "fake_real = fake_real_data[['text', 'label']]"
   ]
  },
  {
   "cell_type": "markdown",
   "id": "39cb3e4c-b59c-4205-b1b0-42b84838e98e",
   "metadata": {},
   "source": [
    "# Tokenisation avec Bert pré-entrainé puis modèle logistique\n",
    "\n",
    "On met en place une tokenisation basique qui fonctionne avec la version pré-entrainée de Bert"
   ]
  },
  {
   "cell_type": "code",
   "execution_count": 13,
   "id": "6da1bd3a-a830-4aa5-990d-3f9f61c37a63",
   "metadata": {},
   "outputs": [
    {
     "name": "stderr",
     "output_type": "stream",
     "text": [
      "Encodage en batchs: 100%|██████████| 702/702 [39:27<00:00,  3.37s/it]"
     ]
    },
    {
     "name": "stdout",
     "output_type": "stream",
     "text": [
      "Temps pour embedding : 2367.1586334705353 secondes\n"
     ]
    },
    {
     "name": "stderr",
     "output_type": "stream",
     "text": [
      "\n"
     ]
    }
   ],
   "source": [
    "# Charger le tokenizer et le modèle BERT\n",
    "tokenizer = BertTokenizer.from_pretrained('bert-base-uncased')\n",
    "model = BertModel.from_pretrained('bert-base-uncased')\n",
    "model.eval()  # Pas d'entraînement\n",
    "\n",
    "# Détection de l'appareil (GPU si dispo)\n",
    "device = torch.device('cuda' if torch.cuda.is_available() else 'cpu')\n",
    "model.to(device)\n",
    "\n",
    "# 3. Fonction pour encoder en batchs\n",
    "def get_embeddings_batch(texts, batch_size=16):\n",
    "    all_embeddings = []\n",
    "\n",
    "    for i in tqdm(range(0, len(texts), batch_size), desc=\"Encodage en batchs\"):\n",
    "        batch_texts = texts[i:i+batch_size]\n",
    "\n",
    "        # Tokenisation\n",
    "        inputs = tokenizer(batch_texts,\n",
    "                           return_tensors='pt',\n",
    "                           truncation=True,\n",
    "                           padding=True,\n",
    "                           max_length=512)\n",
    "        \n",
    "        inputs = {k: v.to(device) for k, v in inputs.items()}\n",
    "\n",
    "        with torch.no_grad():\n",
    "            outputs = model(**inputs)\n",
    "        \n",
    "        # Moyenne des embeddings par séquence\n",
    "        batch_embeddings = outputs.last_hidden_state.mean(dim=1).cpu().numpy()\n",
    "        all_embeddings.append(batch_embeddings)\n",
    "\n",
    "    return np.vstack(all_embeddings)\n",
    "\n",
    "# Génération des embeddings\n",
    "texts = Isot['text'].tolist()\n",
    "labels = Isot['label'].values\n",
    "\n",
    "start_time = time.time()\n",
    "embeddings = get_embeddings_batch(texts, batch_size=64)\n",
    "print(f\"Temps pour embedding : {time.time() - start_time} secondes\")"
   ]
  },
  {
   "cell_type": "code",
   "execution_count": 17,
   "id": "a1c85dff-2855-4e8f-b7ff-88e0630db7e3",
   "metadata": {},
   "outputs": [
    {
     "name": "stdout",
     "output_type": "stream",
     "text": [
      "Temps pour fit : 13.896960496902466 secondes\n",
      "Accuracy: 0.9928730512249443\n",
      "              precision    recall  f1-score   support\n",
      "\n",
      "           0       0.99      0.99      0.99      4330\n",
      "           1       0.99      0.99      0.99      4650\n",
      "\n",
      "    accuracy                           0.99      8980\n",
      "   macro avg       0.99      0.99      0.99      8980\n",
      "weighted avg       0.99      0.99      0.99      8980\n",
      "\n",
      "\n",
      "Confusion Matrix:\n",
      " [[4306   24]\n",
      " [  40 4610]]\n"
     ]
    }
   ],
   "source": [
    "# Split\n",
    "X_train, X_test, y_train, y_test = train_test_split(embeddings, labels, test_size=0.2, random_state=42)\n",
    "\n",
    "# Entrainement d'une régression logistique\n",
    "classifier = LogisticRegression(max_iter=1000)\n",
    "start_time = time.time()\n",
    "classifier.fit(X_train, y_train)\n",
    "print(f\"Temps pour fit : {time.time() - start_time} secondes\")\n",
    "\n",
    "y_pred = classifier.predict(X_test)\n",
    "print(\"Accuracy:\", accuracy_score(y_test, y_pred))\n",
    "print(classification_report(y_test, y_pred))\n",
    "print(\"\\nConfusion Matrix:\\n\", confusion_matrix(y_test, y_pred))"
   ]
  }
 ],
 "metadata": {
  "kernelspec": {
   "display_name": "Python 3 (ipykernel)",
   "language": "python",
   "name": "python3"
  },
  "language_info": {
   "codemirror_mode": {
    "name": "ipython",
    "version": 3
   },
   "file_extension": ".py",
   "mimetype": "text/x-python",
   "name": "python",
   "nbconvert_exporter": "python",
   "pygments_lexer": "ipython3",
   "version": "3.12.9"
  }
 },
 "nbformat": 4,
 "nbformat_minor": 5
}
