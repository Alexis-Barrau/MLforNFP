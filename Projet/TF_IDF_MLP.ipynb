{
 "cells": [
  {
   "cell_type": "markdown",
   "id": "91d19c60-0818-471e-ac9c-bbea033ec3f1",
   "metadata": {},
   "source": [
    "#### Packages"
   ]
  },
  {
   "cell_type": "code",
   "execution_count": 1,
   "id": "5b168eaa-c1cf-4cac-be74-7d1434960f95",
   "metadata": {},
   "outputs": [],
   "source": [
    "import pandas as pd\n",
    "import numpy as np\n",
    "import time\n",
    "from sklearn.model_selection import train_test_split\n",
    "from sklearn.feature_extraction import text\n",
    "from sklearn.feature_extraction.text import TfidfVectorizer\n",
    "from sklearn.linear_model import LogisticRegression\n",
    "from sklearn.metrics import accuracy_score, classification_report, confusion_matrix\n",
    "from sklearn.neural_network import MLPClassifier\n",
    "from sklearn.pipeline import Pipeline\n",
    "from sklearn.decomposition import TruncatedSVD"
   ]
  },
  {
   "cell_type": "markdown",
   "id": "d3b81679-4c80-483f-9828-10ac0153a633",
   "metadata": {},
   "source": [
    "Ce notebook pour tester si le fait d'utiliser un Perceptron multi-couche (MLP) à la place de la regressionlogistique améliore la généralisabilité. \n",
    "\n",
    "Pour le choix du modèle, on s'appuie sur le résultat du GridSearch du script GreadSearch_TF_IDF_MLP.py qui donne \n",
    "2025-04-15 10:57:43,376 - Best parameters found:\n",
    "2025-04-15 10:57:43,376 - {'mlp__activation': 'relu', 'mlp__alpha': 0.0001, 'mlp__hidden_layer_sizes': (100,), 'mlp__learning_rate_init': 0.01, 'svd__n_components': 200}\n",
    "\n",
    "## Chargement des bases\n",
    "\n",
    "#### Chargement et mise en forme de ISOT"
   ]
  },
  {
   "cell_type": "code",
   "execution_count": 2,
   "id": "871e8228-4f14-4b83-a16c-ac361e8d001b",
   "metadata": {},
   "outputs": [
    {
     "data": {
      "text/html": [
       "<div>\n",
       "<style scoped>\n",
       "    .dataframe tbody tr th:only-of-type {\n",
       "        vertical-align: middle;\n",
       "    }\n",
       "\n",
       "    .dataframe tbody tr th {\n",
       "        vertical-align: top;\n",
       "    }\n",
       "\n",
       "    .dataframe thead th {\n",
       "        text-align: right;\n",
       "    }\n",
       "</style>\n",
       "<table border=\"1\" class=\"dataframe\">\n",
       "  <thead>\n",
       "    <tr style=\"text-align: right;\">\n",
       "      <th></th>\n",
       "      <th>title</th>\n",
       "      <th>text</th>\n",
       "      <th>subject</th>\n",
       "      <th>date</th>\n",
       "      <th>label</th>\n",
       "    </tr>\n",
       "  </thead>\n",
       "  <tbody>\n",
       "    <tr>\n",
       "      <th>0</th>\n",
       "      <td>As U.S. budget fight looms, Republicans flip t...</td>\n",
       "      <td>WASHINGTON (Reuters) - The head of a conservat...</td>\n",
       "      <td>politicsNews</td>\n",
       "      <td>December 31, 2017</td>\n",
       "      <td>0</td>\n",
       "    </tr>\n",
       "    <tr>\n",
       "      <th>1</th>\n",
       "      <td>U.S. military to accept transgender recruits o...</td>\n",
       "      <td>WASHINGTON (Reuters) - Transgender people will...</td>\n",
       "      <td>politicsNews</td>\n",
       "      <td>December 29, 2017</td>\n",
       "      <td>0</td>\n",
       "    </tr>\n",
       "    <tr>\n",
       "      <th>2</th>\n",
       "      <td>Senior U.S. Republican senator: 'Let Mr. Muell...</td>\n",
       "      <td>WASHINGTON (Reuters) - The special counsel inv...</td>\n",
       "      <td>politicsNews</td>\n",
       "      <td>December 31, 2017</td>\n",
       "      <td>0</td>\n",
       "    </tr>\n",
       "    <tr>\n",
       "      <th>3</th>\n",
       "      <td>FBI Russia probe helped by Australian diplomat...</td>\n",
       "      <td>WASHINGTON (Reuters) - Trump campaign adviser ...</td>\n",
       "      <td>politicsNews</td>\n",
       "      <td>December 30, 2017</td>\n",
       "      <td>0</td>\n",
       "    </tr>\n",
       "    <tr>\n",
       "      <th>4</th>\n",
       "      <td>Trump wants Postal Service to charge 'much mor...</td>\n",
       "      <td>SEATTLE/WASHINGTON (Reuters) - President Donal...</td>\n",
       "      <td>politicsNews</td>\n",
       "      <td>December 29, 2017</td>\n",
       "      <td>0</td>\n",
       "    </tr>\n",
       "  </tbody>\n",
       "</table>\n",
       "</div>"
      ],
      "text/plain": [
       "                                               title  \\\n",
       "0  As U.S. budget fight looms, Republicans flip t...   \n",
       "1  U.S. military to accept transgender recruits o...   \n",
       "2  Senior U.S. Republican senator: 'Let Mr. Muell...   \n",
       "3  FBI Russia probe helped by Australian diplomat...   \n",
       "4  Trump wants Postal Service to charge 'much mor...   \n",
       "\n",
       "                                                text       subject  \\\n",
       "0  WASHINGTON (Reuters) - The head of a conservat...  politicsNews   \n",
       "1  WASHINGTON (Reuters) - Transgender people will...  politicsNews   \n",
       "2  WASHINGTON (Reuters) - The special counsel inv...  politicsNews   \n",
       "3  WASHINGTON (Reuters) - Trump campaign adviser ...  politicsNews   \n",
       "4  SEATTLE/WASHINGTON (Reuters) - President Donal...  politicsNews   \n",
       "\n",
       "                 date  label  \n",
       "0  December 31, 2017       0  \n",
       "1  December 29, 2017       0  \n",
       "2  December 31, 2017       0  \n",
       "3  December 30, 2017       0  \n",
       "4  December 29, 2017       0  "
      ]
     },
     "execution_count": 2,
     "metadata": {},
     "output_type": "execute_result"
    }
   ],
   "source": [
    "# Mise en forme dataset ISOT https://www.kaggle.com/datasets/csmalarkodi/isot-fake-news-dataset/\n",
    "Isot_true_df = pd.read_csv(\"data/True.csv\")\n",
    "Isot_fake_df = pd.read_csv(\"data/Fake.csv\")\n",
    "\n",
    "#Création d'un dataset unique\n",
    "\n",
    "Isot_true_df[\"label\"] = 0  # Vraie news\n",
    "Isot_fake_df[\"label\"] = 1  # Fake news\n",
    "\n",
    "Isot_data = pd.concat([Isot_true_df, Isot_fake_df], ignore_index=True)\n",
    "\n",
    "Isot_data.head(5)"
   ]
  },
  {
   "cell_type": "code",
   "execution_count": 3,
   "id": "9c243d44-e25e-4eab-acc8-c3fe31d418e8",
   "metadata": {},
   "outputs": [
    {
     "data": {
      "text/plain": [
       "title      0\n",
       "text       0\n",
       "subject    0\n",
       "date       0\n",
       "label      0\n",
       "dtype: int64"
      ]
     },
     "execution_count": 3,
     "metadata": {},
     "output_type": "execute_result"
    }
   ],
   "source": [
    "# On test la présence de NA\n",
    "Isot_data.isnull().sum()"
   ]
  },
  {
   "cell_type": "code",
   "execution_count": 4,
   "id": "09cba9f7-caac-48bf-99ea-079a5e9c24d6",
   "metadata": {},
   "outputs": [],
   "source": [
    "# On ne garde que le label et le text de l'article\n",
    "Isot = Isot_data[['text', 'label']]"
   ]
  },
  {
   "cell_type": "markdown",
   "id": "7035f574-0323-4863-a283-20b31c60fafb",
   "metadata": {},
   "source": [
    "#### Chargement et mise en forme de fake_news"
   ]
  },
  {
   "cell_type": "code",
   "execution_count": 5,
   "id": "c9ddc9f8-5345-43f1-a630-70379d8706c2",
   "metadata": {},
   "outputs": [
    {
     "data": {
      "text/html": [
       "<div>\n",
       "<style scoped>\n",
       "    .dataframe tbody tr th:only-of-type {\n",
       "        vertical-align: middle;\n",
       "    }\n",
       "\n",
       "    .dataframe tbody tr th {\n",
       "        vertical-align: top;\n",
       "    }\n",
       "\n",
       "    .dataframe thead th {\n",
       "        text-align: right;\n",
       "    }\n",
       "</style>\n",
       "<table border=\"1\" class=\"dataframe\">\n",
       "  <thead>\n",
       "    <tr style=\"text-align: right;\">\n",
       "      <th></th>\n",
       "      <th>id</th>\n",
       "      <th>title</th>\n",
       "      <th>author</th>\n",
       "      <th>text</th>\n",
       "      <th>label</th>\n",
       "    </tr>\n",
       "  </thead>\n",
       "  <tbody>\n",
       "    <tr>\n",
       "      <th>0</th>\n",
       "      <td>0</td>\n",
       "      <td>House Dem Aide: We Didn’t Even See Comey’s Let...</td>\n",
       "      <td>Darrell Lucus</td>\n",
       "      <td>House Dem Aide: We Didn’t Even See Comey’s Let...</td>\n",
       "      <td>1</td>\n",
       "    </tr>\n",
       "    <tr>\n",
       "      <th>1</th>\n",
       "      <td>1</td>\n",
       "      <td>FLYNN: Hillary Clinton, Big Woman on Campus - ...</td>\n",
       "      <td>Daniel J. Flynn</td>\n",
       "      <td>Ever get the feeling your life circles the rou...</td>\n",
       "      <td>0</td>\n",
       "    </tr>\n",
       "    <tr>\n",
       "      <th>2</th>\n",
       "      <td>2</td>\n",
       "      <td>Why the Truth Might Get You Fired</td>\n",
       "      <td>Consortiumnews.com</td>\n",
       "      <td>Why the Truth Might Get You Fired October 29, ...</td>\n",
       "      <td>1</td>\n",
       "    </tr>\n",
       "    <tr>\n",
       "      <th>3</th>\n",
       "      <td>3</td>\n",
       "      <td>15 Civilians Killed In Single US Airstrike Hav...</td>\n",
       "      <td>Jessica Purkiss</td>\n",
       "      <td>Videos 15 Civilians Killed In Single US Airstr...</td>\n",
       "      <td>1</td>\n",
       "    </tr>\n",
       "    <tr>\n",
       "      <th>4</th>\n",
       "      <td>4</td>\n",
       "      <td>Iranian woman jailed for fictional unpublished...</td>\n",
       "      <td>Howard Portnoy</td>\n",
       "      <td>Print \\nAn Iranian woman has been sentenced to...</td>\n",
       "      <td>1</td>\n",
       "    </tr>\n",
       "  </tbody>\n",
       "</table>\n",
       "</div>"
      ],
      "text/plain": [
       "   id                                              title              author  \\\n",
       "0   0  House Dem Aide: We Didn’t Even See Comey’s Let...       Darrell Lucus   \n",
       "1   1  FLYNN: Hillary Clinton, Big Woman on Campus - ...     Daniel J. Flynn   \n",
       "2   2                  Why the Truth Might Get You Fired  Consortiumnews.com   \n",
       "3   3  15 Civilians Killed In Single US Airstrike Hav...     Jessica Purkiss   \n",
       "4   4  Iranian woman jailed for fictional unpublished...      Howard Portnoy   \n",
       "\n",
       "                                                text  label  \n",
       "0  House Dem Aide: We Didn’t Even See Comey’s Let...      1  \n",
       "1  Ever get the feeling your life circles the rou...      0  \n",
       "2  Why the Truth Might Get You Fired October 29, ...      1  \n",
       "3  Videos 15 Civilians Killed In Single US Airstr...      1  \n",
       "4  Print \\nAn Iranian woman has been sentenced to...      1  "
      ]
     },
     "execution_count": 5,
     "metadata": {},
     "output_type": "execute_result"
    }
   ],
   "source": [
    "# Mise en forme dataset Fake_News https://www.kaggle.com/competitions/fake-news/data?select=train.csv\n",
    "fake_news_data = pd.read_csv(\"data/train.csv\")\n",
    "fake_news_data.head(5)"
   ]
  },
  {
   "cell_type": "code",
   "execution_count": 6,
   "id": "37a8d89c-969c-479d-b569-fe487d59906c",
   "metadata": {},
   "outputs": [
    {
     "data": {
      "text/plain": [
       "id           0\n",
       "title      558\n",
       "author    1957\n",
       "text        39\n",
       "label        0\n",
       "dtype: int64"
      ]
     },
     "execution_count": 6,
     "metadata": {},
     "output_type": "execute_result"
    }
   ],
   "source": [
    "# On teste la présence de valeurs manquantes sur le texte, et on drop s'il y en a\n",
    "fake_news_data.isnull().sum()"
   ]
  },
  {
   "cell_type": "code",
   "execution_count": 7,
   "id": "9465394a-ba64-4811-8786-0bd9b768b34c",
   "metadata": {},
   "outputs": [],
   "source": [
    "fake_news_data = fake_news_data.dropna(subset=['text'])"
   ]
  },
  {
   "cell_type": "code",
   "execution_count": 8,
   "id": "8b394931-e295-4627-97be-3669d59f6fc2",
   "metadata": {},
   "outputs": [
    {
     "data": {
      "text/html": [
       "<div>\n",
       "<style scoped>\n",
       "    .dataframe tbody tr th:only-of-type {\n",
       "        vertical-align: middle;\n",
       "    }\n",
       "\n",
       "    .dataframe tbody tr th {\n",
       "        vertical-align: top;\n",
       "    }\n",
       "\n",
       "    .dataframe thead th {\n",
       "        text-align: right;\n",
       "    }\n",
       "</style>\n",
       "<table border=\"1\" class=\"dataframe\">\n",
       "  <thead>\n",
       "    <tr style=\"text-align: right;\">\n",
       "      <th></th>\n",
       "      <th>text</th>\n",
       "      <th>label</th>\n",
       "    </tr>\n",
       "  </thead>\n",
       "  <tbody>\n",
       "    <tr>\n",
       "      <th>0</th>\n",
       "      <td>House Dem Aide: We Didn’t Even See Comey’s Let...</td>\n",
       "      <td>1</td>\n",
       "    </tr>\n",
       "    <tr>\n",
       "      <th>1</th>\n",
       "      <td>Ever get the feeling your life circles the rou...</td>\n",
       "      <td>0</td>\n",
       "    </tr>\n",
       "    <tr>\n",
       "      <th>2</th>\n",
       "      <td>Why the Truth Might Get You Fired October 29, ...</td>\n",
       "      <td>1</td>\n",
       "    </tr>\n",
       "  </tbody>\n",
       "</table>\n",
       "</div>"
      ],
      "text/plain": [
       "                                                text  label\n",
       "0  House Dem Aide: We Didn’t Even See Comey’s Let...      1\n",
       "1  Ever get the feeling your life circles the rou...      0\n",
       "2  Why the Truth Might Get You Fired October 29, ...      1"
      ]
     },
     "execution_count": 8,
     "metadata": {},
     "output_type": "execute_result"
    }
   ],
   "source": [
    "# On ne garde que le label et le text de l'article et on lemmatise\n",
    "fake_news = fake_news_data[['text', 'label']]\n",
    "fake_news.head(3)"
   ]
  },
  {
   "cell_type": "markdown",
   "id": "61b66d63-6f32-4fcb-b586-d750b0fa7426",
   "metadata": {},
   "source": [
    "#### Chargement et mise en forme de fake_real"
   ]
  },
  {
   "cell_type": "code",
   "execution_count": 9,
   "id": "3121f48a-5067-4add-93a6-bf76040220e6",
   "metadata": {},
   "outputs": [
    {
     "data": {
      "text/html": [
       "<div>\n",
       "<style scoped>\n",
       "    .dataframe tbody tr th:only-of-type {\n",
       "        vertical-align: middle;\n",
       "    }\n",
       "\n",
       "    .dataframe tbody tr th {\n",
       "        vertical-align: top;\n",
       "    }\n",
       "\n",
       "    .dataframe thead th {\n",
       "        text-align: right;\n",
       "    }\n",
       "</style>\n",
       "<table border=\"1\" class=\"dataframe\">\n",
       "  <thead>\n",
       "    <tr style=\"text-align: right;\">\n",
       "      <th></th>\n",
       "      <th>Unnamed: 0</th>\n",
       "      <th>title</th>\n",
       "      <th>text</th>\n",
       "      <th>label</th>\n",
       "    </tr>\n",
       "  </thead>\n",
       "  <tbody>\n",
       "    <tr>\n",
       "      <th>0</th>\n",
       "      <td>8476</td>\n",
       "      <td>You Can Smell Hillary’s Fear</td>\n",
       "      <td>Daniel Greenfield, a Shillman Journalism Fello...</td>\n",
       "      <td>1</td>\n",
       "    </tr>\n",
       "    <tr>\n",
       "      <th>1</th>\n",
       "      <td>10294</td>\n",
       "      <td>Watch The Exact Moment Paul Ryan Committed Pol...</td>\n",
       "      <td>Google Pinterest Digg Linkedin Reddit Stumbleu...</td>\n",
       "      <td>1</td>\n",
       "    </tr>\n",
       "    <tr>\n",
       "      <th>2</th>\n",
       "      <td>3608</td>\n",
       "      <td>Kerry to go to Paris in gesture of sympathy</td>\n",
       "      <td>U.S. Secretary of State John F. Kerry said Mon...</td>\n",
       "      <td>0</td>\n",
       "    </tr>\n",
       "    <tr>\n",
       "      <th>3</th>\n",
       "      <td>10142</td>\n",
       "      <td>Bernie supporters on Twitter erupt in anger ag...</td>\n",
       "      <td>— Kaydee King (@KaydeeKing) November 9, 2016 T...</td>\n",
       "      <td>1</td>\n",
       "    </tr>\n",
       "    <tr>\n",
       "      <th>4</th>\n",
       "      <td>875</td>\n",
       "      <td>The Battle of New York: Why This Primary Matters</td>\n",
       "      <td>It's primary day in New York and front-runners...</td>\n",
       "      <td>0</td>\n",
       "    </tr>\n",
       "  </tbody>\n",
       "</table>\n",
       "</div>"
      ],
      "text/plain": [
       "   Unnamed: 0                                              title  \\\n",
       "0        8476                       You Can Smell Hillary’s Fear   \n",
       "1       10294  Watch The Exact Moment Paul Ryan Committed Pol...   \n",
       "2        3608        Kerry to go to Paris in gesture of sympathy   \n",
       "3       10142  Bernie supporters on Twitter erupt in anger ag...   \n",
       "4         875   The Battle of New York: Why This Primary Matters   \n",
       "\n",
       "                                                text  label  \n",
       "0  Daniel Greenfield, a Shillman Journalism Fello...      1  \n",
       "1  Google Pinterest Digg Linkedin Reddit Stumbleu...      1  \n",
       "2  U.S. Secretary of State John F. Kerry said Mon...      0  \n",
       "3  — Kaydee King (@KaydeeKing) November 9, 2016 T...      1  \n",
       "4  It's primary day in New York and front-runners...      0  "
      ]
     },
     "execution_count": 9,
     "metadata": {},
     "output_type": "execute_result"
    }
   ],
   "source": [
    "# Mise en forme dataset Fake_real https://www.kaggle.com/datasets/jillanisofttech/fake-or-real-news\n",
    "fake_real_data = pd.read_csv(\"data/fake_or_real_news.csv\")\n",
    "fake_real_data['label'] = fake_real_data['label'].map({'FAKE': 1, 'REAL': 0})\n",
    "fake_real_data.head(5)"
   ]
  },
  {
   "cell_type": "code",
   "execution_count": 10,
   "id": "9b86e700-0673-4588-b897-d7b0c6909913",
   "metadata": {},
   "outputs": [
    {
     "data": {
      "text/plain": [
       "Unnamed: 0    0\n",
       "title         0\n",
       "text          0\n",
       "label         0\n",
       "dtype: int64"
      ]
     },
     "execution_count": 10,
     "metadata": {},
     "output_type": "execute_result"
    }
   ],
   "source": [
    "# On test la présence de NA\n",
    "fake_real_data.isnull().sum()"
   ]
  },
  {
   "cell_type": "code",
   "execution_count": 11,
   "id": "2b5289f1-0938-4590-8d2f-970793594e50",
   "metadata": {},
   "outputs": [
    {
     "data": {
      "text/html": [
       "<div>\n",
       "<style scoped>\n",
       "    .dataframe tbody tr th:only-of-type {\n",
       "        vertical-align: middle;\n",
       "    }\n",
       "\n",
       "    .dataframe tbody tr th {\n",
       "        vertical-align: top;\n",
       "    }\n",
       "\n",
       "    .dataframe thead th {\n",
       "        text-align: right;\n",
       "    }\n",
       "</style>\n",
       "<table border=\"1\" class=\"dataframe\">\n",
       "  <thead>\n",
       "    <tr style=\"text-align: right;\">\n",
       "      <th></th>\n",
       "      <th>text</th>\n",
       "      <th>label</th>\n",
       "    </tr>\n",
       "  </thead>\n",
       "  <tbody>\n",
       "    <tr>\n",
       "      <th>0</th>\n",
       "      <td>Daniel Greenfield, a Shillman Journalism Fello...</td>\n",
       "      <td>1</td>\n",
       "    </tr>\n",
       "    <tr>\n",
       "      <th>1</th>\n",
       "      <td>Google Pinterest Digg Linkedin Reddit Stumbleu...</td>\n",
       "      <td>1</td>\n",
       "    </tr>\n",
       "    <tr>\n",
       "      <th>2</th>\n",
       "      <td>U.S. Secretary of State John F. Kerry said Mon...</td>\n",
       "      <td>0</td>\n",
       "    </tr>\n",
       "  </tbody>\n",
       "</table>\n",
       "</div>"
      ],
      "text/plain": [
       "                                                text  label\n",
       "0  Daniel Greenfield, a Shillman Journalism Fello...      1\n",
       "1  Google Pinterest Digg Linkedin Reddit Stumbleu...      1\n",
       "2  U.S. Secretary of State John F. Kerry said Mon...      0"
      ]
     },
     "execution_count": 11,
     "metadata": {},
     "output_type": "execute_result"
    }
   ],
   "source": [
    "# On ne garde que le label et le text de l'article et on lemmatize\n",
    "fake_real = fake_real_data[['text', 'label']]\n",
    "fake_real.head(3)"
   ]
  },
  {
   "cell_type": "markdown",
   "id": "cdf2380f-0c17-4d8b-b763-2472328fd795",
   "metadata": {},
   "source": [
    "# Construction d'un modèle TF-IDF-MLP sur ISOT\n",
    "\n",
    "Pour le choix des hyperparamètres, voir résultat du script."
   ]
  },
  {
   "cell_type": "markdown",
   "id": "5ac43171-8dfb-4e18-8ca5-d1d8880311ff",
   "metadata": {},
   "source": [
    "### Réalisation du modèle"
   ]
  },
  {
   "cell_type": "code",
   "execution_count": 12,
   "id": "a279a507-c12b-4e13-bf11-619b1c43d019",
   "metadata": {},
   "outputs": [],
   "source": [
    "# On réalise le split des données\n",
    "\n",
    "X = Isot['text']  # Les articles/textes\n",
    "y = Isot['label']  # Les labels (1 = Fake)\n",
    "\n",
    "X_train, X_test, y_train, y_test = train_test_split(X, y, test_size=0.2, random_state=42)"
   ]
  },
  {
   "cell_type": "code",
   "execution_count": 13,
   "id": "752651f0-5d17-48c1-9e00-fcf9bf09f442",
   "metadata": {},
   "outputs": [],
   "source": [
    "# Définition du pipeline \n",
    "\n",
    "model_tfidf_mlp = Pipeline([\n",
    "    ('tfidf', TfidfVectorizer(stop_words='english', max_df=0.7)),\n",
    "    ('svd', TruncatedSVD(n_components=200)),\n",
    "    ('mlp', MLPClassifier(hidden_layer_sizes=(100,), \n",
    "                          activation='relu', \n",
    "                          alpha=0.0001, \n",
    "                          learning_rate_init=0.01,\n",
    "                          max_iter=500,\n",
    "                          early_stopping=True,\n",
    "                          random_state=42))\n",
    "])"
   ]
  },
  {
   "cell_type": "code",
   "execution_count": null,
   "id": "c0442116-5f29-43fa-8c4f-04f4f339a97e",
   "metadata": {},
   "outputs": [],
   "source": [
    "start_time = time.time()\n",
    "model_tfidf_mlp.fit(X_train, y_train)\n",
    "fit_duration = time.time() - start_time\n",
    "print(f\"fit terminé en {fit_duration:.2f} secondes.\")"
   ]
  },
  {
   "cell_type": "code",
   "execution_count": null,
   "id": "4f0502d0-3d78-4017-b03a-daf071ed7119",
   "metadata": {},
   "outputs": [],
   "source": [
    "# Et on évalue notre petit modèle\n",
    "start_time = time.time()\n",
    "y_pred = model_tfidf_mlp.predict(X_test_tfidf)\n",
    "pred_duration = time.time() - start_time\n",
    "print(f\"Prédiction terminé en {pred_duration:.2f} secondes.\")\n",
    "print(\"Accuracy:\", accuracy_score(y_test, y_pred))\n",
    "print(\"\\nClassification Report:\\n\", classification_report(y_test, y_pred))\n",
    "print(\"\\nConfusion Matrix:\\n\", confusion_matrix(y_test, y_pred))"
   ]
  },
  {
   "cell_type": "markdown",
   "id": "0b6303bb-662e-42bd-9054-869699468c9e",
   "metadata": {},
   "source": [
    "\n",
    "\n",
    "### Test sur les autres datasets"
   ]
  },
  {
   "cell_type": "code",
   "execution_count": null,
   "id": "8ebbd2c2-3610-499d-b870-29d5fa02f324",
   "metadata": {},
   "outputs": [],
   "source": [
    "# Définition d'une fonction de prédiction \n",
    "\n",
    "def apply_model_tfidf_mlp(new_data, text_column='text'):\n",
    "    \"\"\"\n",
    "    Applique le modèle de détection de fake news entrainé sur ISOT et fonctionnant avec un tokenizer TF-IDF, une réduction de dimension avec TruncatedSVD et un prédicteur de type MLP à un nouveau DataFrame.\n",
    "    Ajoute une colonne 'prediction' (0 = Real, 1 = Fake).\n",
    "    \"\"\"\n",
    "    # Faire les prédictions\n",
    "    predictions = model_tfidf_mlp.predict(X_new_tfidf)\n",
    "    \n",
    "    # Ajouter la colonne 'prediction'\n",
    "    new_data = new_data.copy()  # Pour ne pas modifier le DataFrame original\n",
    "    new_data['prediction'] = predictions\n",
    "    \n",
    "    return new_data\n",
    "    "
   ]
  },
  {
   "cell_type": "code",
   "execution_count": null,
   "id": "12694510-b44f-458b-a6ce-90503b52aec1",
   "metadata": {},
   "outputs": [],
   "source": [
    "# Appliquer le modèle à Fake_News\n",
    "start_time = time.time()\n",
    "fake_news_pred = apply_model_tfidf_mlp(fake_news)\n",
    "pred_duration = time.time() - start_time\n",
    "\n",
    "print(f\"Prédiction terminé en {pred_duration:.2f} secondes.\")\n",
    "print(\"\\nÉvaluation sur Fake News :\\n\")\n",
    "print(\"Accuracy:\", accuracy_score(fake_news_pred['label'], fake_news_pred['prediction']))\n",
    "print(\"\\nClassification Report:\\n\", classification_report(fake_news_pred['label'], fake_news_pred['prediction']))\n",
    "print(\"\\nConfusion Matrix:\\n\", confusion_matrix(fake_news_pred['label'], fake_news_pred['prediction']))"
   ]
  },
  {
   "cell_type": "code",
   "execution_count": null,
   "id": "162a124d-a324-4e26-b309-11d1de092197",
   "metadata": {},
   "outputs": [],
   "source": [
    "# Appliquer le modèle à Fake_Real\n",
    "start_time = time.time()\n",
    "fake_news_pred = apply_model_tfidf_mlp(fake_real)\n",
    "pred_duration = time.time() - start_time\n",
    "\n",
    "print(f\"Prédiction terminé en {pred_duration:.2f} secondes.\")\n",
    "print(\"\\nÉvaluation sur Fake Real :\\n\")\n",
    "print(\"Accuracy:\", accuracy_score(fake_real_pred['label'], fake_real_pred['prediction']))\n",
    "print(\"\\nClassification Report:\\n\", classification_report(fake_real_pred['label'], fake_real_pred['prediction']))\n",
    "print(\"\\nConfusion Matrix:\\n\", confusion_matrix(fake_real_pred['label'], fake_real_pred['prediction']))"
   ]
  },
  {
   "cell_type": "code",
   "execution_count": null,
   "id": "5c781621-d417-4fdf-9341-43dcf6c7ccf0",
   "metadata": {},
   "outputs": [],
   "source": []
  }
 ],
 "metadata": {
  "kernelspec": {
   "display_name": "Python 3 (ipykernel)",
   "language": "python",
   "name": "python3"
  },
  "language_info": {
   "codemirror_mode": {
    "name": "ipython",
    "version": 3
   },
   "file_extension": ".py",
   "mimetype": "text/x-python",
   "name": "python",
   "nbconvert_exporter": "python",
   "pygments_lexer": "ipython3",
   "version": "3.12.9"
  }
 },
 "nbformat": 4,
 "nbformat_minor": 5
}
