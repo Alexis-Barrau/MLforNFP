{
 "cells": [
  {
   "cell_type": "code",
   "execution_count": 18,
   "id": "62590298-9a09-4964-8e06-e08a3bb5a7ef",
   "metadata": {},
   "outputs": [],
   "source": [
    "import pandas as pd\n",
    "import torch\n",
    "from transformers import BertTokenizer, BertModel\n",
    "from sklearn.linear_model import LogisticRegression\n",
    "from sklearn.model_selection import train_test_split\n",
    "from sklearn.metrics import classification_report, accuracy_score, confusion_matrix\n",
    "from tqdm import tqdm\n",
    "import numpy as np\n",
    "import time\n",
    "import joblib"
   ]
  },
  {
   "cell_type": "code",
   "execution_count": 2,
   "id": "4ec82ff7-5caa-4115-a4b4-bf3b3274f12e",
   "metadata": {},
   "outputs": [
    {
     "name": "stdout",
     "output_type": "stream",
     "text": [
      "GPU disponible : True\n",
      "Nom du GPU : NVIDIA A2\n"
     ]
    }
   ],
   "source": [
    "print(\"GPU disponible :\", torch.cuda.is_available())\n",
    "print(\"Nom du GPU :\", torch.cuda.get_device_name(0) if torch.cuda.is_available() else \"Aucun\")"
   ]
  },
  {
   "cell_type": "code",
   "execution_count": 3,
   "id": "173be2be-24ef-4c3e-b54d-ee9724a90609",
   "metadata": {},
   "outputs": [],
   "source": [
    "# Mise en forme dataset ISOT https://www.kaggle.com/datasets/csmalarkodi/isot-fake-news-dataset/\n",
    "Isot_true_df = pd.read_csv(\"data/True.csv\")\n",
    "Isot_fake_df = pd.read_csv(\"data/Fake.csv\")\n",
    "\n",
    "#Création d'un dataset unique\n",
    "\n",
    "Isot_true_df[\"label\"] = 0  # Vraie news\n",
    "Isot_fake_df[\"label\"] = 1  # Fake news\n",
    "\n",
    "Isot_data = pd.concat([Isot_true_df, Isot_fake_df], ignore_index=True)\n",
    "\n",
    "Isot = Isot_data[['text', 'label']]"
   ]
  },
  {
   "cell_type": "code",
   "execution_count": 4,
   "id": "3089d2bc-c425-4778-818e-4e30b3b6c806",
   "metadata": {},
   "outputs": [],
   "source": [
    "# Mise en forme dataset Fake_News https://www.kaggle.com/competitions/fake-news/data?select=train.csv\n",
    "fake_news_data = pd.read_csv(\"data/train.csv\")\n",
    "\n",
    "fake_news_data = fake_news_data.dropna(subset=['text'])\n",
    "\n",
    "fake_news = fake_news_data[['text', 'label']]"
   ]
  },
  {
   "cell_type": "code",
   "execution_count": 5,
   "id": "e4a859aa-11e7-4947-af95-66f957951023",
   "metadata": {},
   "outputs": [],
   "source": [
    "# Mise en forme dataset Fake_real https://www.kaggle.com/datasets/jillanisofttech/fake-or-real-news\n",
    "fake_real_data = pd.read_csv(\"data/fake_or_real_news.csv\")\n",
    "fake_real_data['label'] = fake_real_data['label'].map({'FAKE': 1, 'REAL': 0})\n",
    "\n",
    "# On ne garde que le label et le text de l'article et on lemmatize\n",
    "fake_real = fake_real_data[['text', 'label']]"
   ]
  },
  {
   "cell_type": "markdown",
   "id": "39cb3e4c-b59c-4205-b1b0-42b84838e98e",
   "metadata": {},
   "source": [
    "# Tokenisation avec Bert pré-entrainé puis modèle logistique\n",
    "\n",
    "On met en place une tokenisation basique qui fonctionne avec la version pré-entrainée de Bert"
   ]
  },
  {
   "cell_type": "code",
   "execution_count": 13,
   "id": "6da1bd3a-a830-4aa5-990d-3f9f61c37a63",
   "metadata": {},
   "outputs": [
    {
     "name": "stderr",
     "output_type": "stream",
     "text": [
      "Encodage en batchs: 100%|██████████| 702/702 [39:27<00:00,  3.37s/it]"
     ]
    },
    {
     "name": "stdout",
     "output_type": "stream",
     "text": [
      "Temps pour embedding : 2367.1586334705353 secondes\n"
     ]
    },
    {
     "name": "stderr",
     "output_type": "stream",
     "text": [
      "\n"
     ]
    }
   ],
   "source": [
    "# Charger le tokenizer et le modèle BERT\n",
    "tokenizer = BertTokenizer.from_pretrained('bert-base-uncased')\n",
    "model = BertModel.from_pretrained('bert-base-uncased')\n",
    "model.eval()  # Pas d'entraînement\n",
    "\n",
    "# Détection de l'appareil (GPU si dispo)\n",
    "device = torch.device('cuda' if torch.cuda.is_available() else 'cpu')\n",
    "model.to(device)\n",
    "\n",
    "# 3. Fonction pour encoder en batchs\n",
    "def get_embeddings_batch(texts, batch_size=16):\n",
    "    all_embeddings = []\n",
    "\n",
    "    for i in tqdm(range(0, len(texts), batch_size), desc=\"Encodage en batchs\"):\n",
    "        batch_texts = texts[i:i+batch_size]\n",
    "\n",
    "        # Tokenisation\n",
    "        inputs = tokenizer(batch_texts,\n",
    "                           return_tensors='pt',\n",
    "                           truncation=True,\n",
    "                           padding=True,\n",
    "                           max_length=512)\n",
    "        \n",
    "        inputs = {k: v.to(device) for k, v in inputs.items()}\n",
    "\n",
    "        with torch.no_grad():\n",
    "            outputs = model(**inputs)\n",
    "        \n",
    "        # Moyenne des embeddings par séquence\n",
    "        batch_embeddings = outputs.last_hidden_state.mean(dim=1).cpu().numpy()\n",
    "        all_embeddings.append(batch_embeddings)\n",
    "\n",
    "    return np.vstack(all_embeddings)\n",
    "\n",
    "# Génération des embeddings\n",
    "texts = Isot['text'].tolist()\n",
    "labels = Isot['label'].values\n",
    "\n",
    "start_time = time.time()\n",
    "embeddings = get_embeddings_batch(texts, batch_size=64)\n",
    "print(f\"Temps pour embedding : {time.time() - start_time} secondes\")"
   ]
  },
  {
   "cell_type": "code",
   "execution_count": 21,
   "id": "17c0e4c6-34a2-4940-82ce-867a35fbc342",
   "metadata": {},
   "outputs": [],
   "source": [
    "# On enregistre les embeddings sous forme de dataframe\n",
    "\n",
    "# Créer un DataFrame avec les embeddings et les labels\n",
    "embeddings_df = pd.DataFrame(embeddings)\n",
    "embeddings_df['label'] = Isot['label'].values  # Ajouter les labels\n",
    "\n",
    "# Sauvegarder dans un fichier CSV\n",
    "embeddings_df.to_csv(\"data/Embedded/embeddings_isot_base_bert.csv\", index=False)"
   ]
  },
  {
   "cell_type": "code",
   "execution_count": null,
   "id": "4b630f36-5556-422f-aac6-4dfdbd60b331",
   "metadata": {},
   "outputs": [],
   "source": [
    "# Pour recharger l'embedding\n",
    "embeddings_df = pd.read_csv(\"data/Embedded/embeddings_isot_base_bert.csv\")\n",
    "\n",
    "labels = embeddings_df['label'].values\n",
    "embeddings = embeddings_df.drop(columns=['label']).values  "
   ]
  },
  {
   "cell_type": "code",
   "execution_count": 17,
   "id": "a1c85dff-2855-4e8f-b7ff-88e0630db7e3",
   "metadata": {},
   "outputs": [
    {
     "name": "stdout",
     "output_type": "stream",
     "text": [
      "Temps pour fit : 13.896960496902466 secondes\n",
      "Accuracy: 0.9928730512249443\n",
      "              precision    recall  f1-score   support\n",
      "\n",
      "           0       0.99      0.99      0.99      4330\n",
      "           1       0.99      0.99      0.99      4650\n",
      "\n",
      "    accuracy                           0.99      8980\n",
      "   macro avg       0.99      0.99      0.99      8980\n",
      "weighted avg       0.99      0.99      0.99      8980\n",
      "\n",
      "\n",
      "Confusion Matrix:\n",
      " [[4306   24]\n",
      " [  40 4610]]\n"
     ]
    }
   ],
   "source": [
    "# Split\n",
    "X_train, X_test, y_train, y_test = train_test_split(embeddings, labels, test_size=0.2, random_state=42)\n",
    "\n",
    "# Entrainement d'une régression logistique\n",
    "classifier = LogisticRegression(max_iter=1000)\n",
    "start_time = time.time()\n",
    "classifier.fit(X_train, y_train)\n",
    "print(f\"Temps pour fit : {time.time() - start_time} secondes\")\n",
    "\n",
    "y_pred = classifier.predict(X_test)\n",
    "print(\"Accuracy:\", accuracy_score(y_test, y_pred))\n",
    "print(classification_report(y_test, y_pred))\n",
    "print(\"\\nConfusion Matrix:\\n\", confusion_matrix(y_test, y_pred))"
   ]
  },
  {
   "cell_type": "code",
   "execution_count": 19,
   "id": "3b2354d3-ebe0-44de-969d-4572a6d5f287",
   "metadata": {},
   "outputs": [
    {
     "data": {
      "text/plain": [
       "['Modele/base_bert_logistic_isot.pkl']"
      ]
     },
     "execution_count": 19,
     "metadata": {},
     "output_type": "execute_result"
    }
   ],
   "source": [
    "# On enregistre le modèle\n",
    "joblib.dump(classifier, \"Modele/base_bert_logistic_isot.pkl\")"
   ]
  },
  {
   "cell_type": "markdown",
   "id": "ab72615b-0ab5-42e7-b4b9-3b672881208d",
   "metadata": {},
   "source": [
    "# Evaluation de notre modèle sur les autres datasets\n",
    "\n",
    "## Fake_news"
   ]
  },
  {
   "cell_type": "code",
   "execution_count": 22,
   "id": "178c39db-f033-4732-919c-bbb59a229b07",
   "metadata": {},
   "outputs": [],
   "source": [
    "# On crée l'embedding de Fake_news\n",
    "\n",
    "# Extraire les textes et les labels\n",
    "fake_news_texts = fake_news['text'].tolist()\n",
    "fake_news_labels = fake_news['label'].values"
   ]
  },
  {
   "cell_type": "code",
   "execution_count": 23,
   "id": "093e0d0d-f5bc-420f-87ff-a804a8c5c0e5",
   "metadata": {},
   "outputs": [
    {
     "name": "stderr",
     "output_type": "stream",
     "text": [
      "Encodage en batchs: 100%|██████████| 325/325 [20:51<00:00,  3.85s/it]"
     ]
    },
    {
     "name": "stdout",
     "output_type": "stream",
     "text": [
      "Temps pour embedding : 1251.8391897678375 secondes\n"
     ]
    },
    {
     "name": "stderr",
     "output_type": "stream",
     "text": [
      "\n"
     ]
    }
   ],
   "source": [
    "# Embedding\n",
    "start_time = time.time()\n",
    "embeddings_fake_news = get_embeddings_batch(fake_news_texts, batch_size=64)\n",
    "print(f\"Temps pour embedding : {time.time() - start_time} secondes\")"
   ]
  },
  {
   "cell_type": "code",
   "execution_count": 29,
   "id": "8be34a9b-b610-4d0e-b626-66d010be71c8",
   "metadata": {},
   "outputs": [],
   "source": [
    "# On enregistre les embeddings sous forme de dataframe\n",
    "\n",
    "# Créer un DataFrame avec les embeddings et les labels\n",
    "embeddings_fake_news_df = pd.DataFrame(embeddings_fake_news)\n",
    "embeddings_fake_news_df['label'] = fake_news['label'].values  # Ajouter les labels\n",
    "\n",
    "# Sauvegarder dans un fichier CSV\n",
    "embeddings_fake_news_df.to_csv(\"data/Embedded/embeddings_fake_news_base_bert.csv\", index=False)"
   ]
  },
  {
   "cell_type": "code",
   "execution_count": null,
   "id": "688e56b6-26fd-4900-a9c6-b35e3d010c35",
   "metadata": {},
   "outputs": [],
   "source": [
    "# Pour recharger l'embedding\n",
    "embeddings_fake_news_df = pd.read_csv(\"data/Embedded/embeddings_fake_news_base_bert.csv\")\n",
    "\n",
    "fake_news_labels = embeddings_fake_news_df['label'].values\n",
    "embeddings_fake_news = embeddings_fake_news_df.drop(columns=['label']).values  "
   ]
  },
  {
   "cell_type": "code",
   "execution_count": 27,
   "id": "02456565-b75e-48db-98c7-cdbe9ebc8392",
   "metadata": {},
   "outputs": [
    {
     "name": "stdout",
     "output_type": "stream",
     "text": [
      "Accuracy: 0.7465921680073214\n",
      "              precision    recall  f1-score   support\n",
      "\n",
      "           0       0.75      0.74      0.75     10387\n",
      "           1       0.75      0.75      0.75     10374\n",
      "\n",
      "    accuracy                           0.75     20761\n",
      "   macro avg       0.75      0.75      0.75     20761\n",
      "weighted avg       0.75      0.75      0.75     20761\n",
      "\n",
      "\n",
      "Confusion Matrix:\n",
      " [[7734 2653]\n",
      " [2608 7766]]\n"
     ]
    }
   ],
   "source": [
    "# On teste\n",
    "\n",
    "fake_news_pred = classifier.predict(embeddings_fake_news)\n",
    "print(\"Accuracy:\", accuracy_score(fake_news_labels, fake_news_pred))\n",
    "print(classification_report(fake_news_labels, fake_news_pred))\n",
    "print(\"\\nConfusion Matrix:\\n\", confusion_matrix(fake_news_labels, fake_news_pred))"
   ]
  },
  {
   "cell_type": "markdown",
   "id": "eefaa4f2-232f-46db-a169-c7909dc13d5e",
   "metadata": {},
   "source": [
    "## Fake_real"
   ]
  },
  {
   "cell_type": "code",
   "execution_count": 30,
   "id": "a329717d-b37a-4dcb-bfa0-9c97e30b4480",
   "metadata": {},
   "outputs": [],
   "source": [
    "# On crée l'embedding de Fake_real\n",
    "\n",
    "# Extraire les textes et les labels\n",
    "fake_real_texts = fake_real['text'].tolist()\n",
    "fake_real_labels = fake_real['label'].values"
   ]
  },
  {
   "cell_type": "code",
   "execution_count": 31,
   "id": "6103688d-dc83-492a-8736-140d154a759c",
   "metadata": {},
   "outputs": [
    {
     "name": "stderr",
     "output_type": "stream",
     "text": [
      "Encodage en batchs: 100%|██████████| 99/99 [06:17<00:00,  3.81s/it]"
     ]
    },
    {
     "name": "stdout",
     "output_type": "stream",
     "text": [
      "Temps pour embedding : 377.3359143733978 secondes\n"
     ]
    },
    {
     "name": "stderr",
     "output_type": "stream",
     "text": [
      "\n"
     ]
    }
   ],
   "source": [
    "# Embedding\n",
    "start_time = time.time()\n",
    "embeddings_fake_real = get_embeddings_batch(fake_real_texts, batch_size=64)\n",
    "print(f\"Temps pour embedding : {time.time() - start_time} secondes\")"
   ]
  },
  {
   "cell_type": "code",
   "execution_count": 33,
   "id": "ff1c9fe7-ad4e-444d-921b-5ba40b363474",
   "metadata": {},
   "outputs": [],
   "source": [
    "# On enregistre les embeddings sous forme de dataframe\n",
    "\n",
    "# Créer un DataFrame avec les embeddings et les labels\n",
    "embeddings_fake_real_df = pd.DataFrame(embeddings_fake_real)\n",
    "embeddings_fake_real_df['label'] = fake_real['label'].values  # Ajouter les labels\n",
    "\n",
    "# Sauvegarder dans un fichier CSV\n",
    "embeddings_fake_real_df.to_csv(\"data/Embedded/embeddings_fake_real_base_bert.csv\", index=False)"
   ]
  },
  {
   "cell_type": "code",
   "execution_count": null,
   "id": "3a4b7c0d-c018-4dd9-8243-4fa86e86eb5e",
   "metadata": {},
   "outputs": [],
   "source": [
    "# Pour recharger l'embedding\n",
    "embeddings_fake_real_df = pd.read_csv(\"data/Embedded/embeddings_fake_news_base_bert.csv\")\n",
    "\n",
    "fake_real_labels = embeddings_fake_real_df['label'].values\n",
    "embeddings_fake_real = embeddings_fake_real_df.drop(columns=['label']).values  "
   ]
  },
  {
   "cell_type": "code",
   "execution_count": 34,
   "id": "383fef50-d5ed-4761-944d-a5d1a0aa8191",
   "metadata": {},
   "outputs": [
    {
     "name": "stdout",
     "output_type": "stream",
     "text": [
      "Accuracy: 0.6584056827150749\n",
      "              precision    recall  f1-score   support\n",
      "\n",
      "           0       0.68      0.59      0.63      3171\n",
      "           1       0.64      0.72      0.68      3164\n",
      "\n",
      "    accuracy                           0.66      6335\n",
      "   macro avg       0.66      0.66      0.66      6335\n",
      "weighted avg       0.66      0.66      0.66      6335\n",
      "\n",
      "\n",
      "Confusion Matrix:\n",
      " [[1880 1291]\n",
      " [ 873 2291]]\n"
     ]
    }
   ],
   "source": [
    "fake_real_pred = classifier.predict(embeddings_fake_real)\n",
    "print(\"Accuracy:\", accuracy_score(fake_real_labels, fake_real_pred))\n",
    "print(classification_report(fake_real_labels, fake_real_pred))\n",
    "print(\"\\nConfusion Matrix:\\n\", confusion_matrix(fake_real_labels, fake_real_pred))"
   ]
  },
  {
   "cell_type": "markdown",
   "id": "1e9efc9f-a526-43e2-b20e-046f741a95ce",
   "metadata": {},
   "source": [
    "On constate une très forte amélioration des performances, même en généralisation. Clairement, la prise en compte des informations contextuelles a permis un progrès massif, et alors même que l'on n'a pas fine-tuned notre modèle. Cela dit, au vu de la performance sur le test, on peut se poser la question de ce qu'il reste à gagner de ce côté..."
   ]
  }
 ],
 "metadata": {
  "kernelspec": {
   "display_name": "Python 3 (ipykernel)",
   "language": "python",
   "name": "python3"
  },
  "language_info": {
   "codemirror_mode": {
    "name": "ipython",
    "version": 3
   },
   "file_extension": ".py",
   "mimetype": "text/x-python",
   "name": "python",
   "nbconvert_exporter": "python",
   "pygments_lexer": "ipython3",
   "version": "3.12.9"
  }
 },
 "nbformat": 4,
 "nbformat_minor": 5
}
