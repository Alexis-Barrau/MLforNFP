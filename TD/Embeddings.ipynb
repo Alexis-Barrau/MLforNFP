{
 "cells": [
  {
   "cell_type": "markdown",
   "metadata": {},
   "source": [
    "#  NLP-lab :  Word embeddings\n",
    "\n",
    "\n",
    "                            ‘The meaning of a word can be inferred by the company it keeps’.\n",
    "\n",
    "In this series of exercises, we will explore three word embeddings:\n",
    "\n",
    "* [Collobert & Weston](http://www.jmlr.org/papers/volume12/collobert11a/collobert11a.pdf) https://ronan.collobert.com/senna/\n",
    "* [Word2Vec](https://arxiv.org/abs/1301.3781)\n",
    "* [BERT](https://huggingface.co/bert-base-uncased) \n",
    "\n",
    "\n",
    "In the code already provided, add your code to the place indicated by `YOUR CODE HERE`.\n"
   ]
  },
  {
   "cell_type": "code",
   "execution_count": 8,
   "metadata": {},
   "outputs": [],
   "source": [
    "# basic imports\n",
    "import os\n",
    "import matplotlib.pyplot as plt\n",
    "# display matplotlib graphics in notebook\n",
    "%matplotlib inline \n",
    "import seaborn as sns\n",
    "\n",
    "# disable warnings for libraries\n",
    "import warnings\n",
    "warnings.filterwarnings(\"ignore\")\n",
    "\n",
    "# configure logger\n",
    "import logging\n",
    "logging.basicConfig(format='%(asctime)s %(levelname)s:%(message)s', level=logging.INFO, datefmt='%I:%M:%S')\n",
    "logger = logging.getLogger(__name__)\n"
   ]
  },
  {
   "cell_type": "markdown",
   "metadata": {},
   "source": [
    "## 1. Pre-entrained embedding files\n",
    "\n",
    "Upload the files containing the embeddings to `data`:\n",
    "* Collobert (size 50): [collobert_embeddings.txt.zip](https://storage.teklia.com/shared/deepnlp-labs/collobert_embeddings.txt.zip) which contains the embedding vectors and [collobert_words.lst](https://storage.teklia.com/shared/deepnlp-labs/collobert_words.lst) which contains the associated words;\n",
    "* Glove (size 50): [glove.6B.50d.txt.zip](https://storage.teklia.com/shared/deepnlp-labs/glove.6B.50d.txt.zip) which contains both the vectors and the words.\n",
    "\n",
    "You need to unzip the files to load them.\n",
    "\n",
    "Feel free to open the files to see what they contain (it's sometimes surprising).\n",
    "\n",
    "#### Question: \n",
    ">* Give the size in Mb of the embeddings files before unzipping.\n",
    ">* By exploring the content of the embedding files, give the number of words for which these files provide embeddings.\n",
    "\n",
    "**Important** : do NOT commit these files in your repository git : it is a waste of resources and it takes more time to clone.\n",
    ">* Use https://docs.github.com/en/get-started/getting-started-with-git/ignoring-files"
   ]
  },
  {
   "cell_type": "markdown",
   "metadata": {},
   "source": [
    "## 2. Exploring embeddings\n",
    "\n",
    "### List of closest words\n",
    "\n",
    "The aim of this exercise is to list the closest words to a given word for the Collobert embedding. First, we'll load the vectors of the Collobert embedding into a numpy array and the associated words into a python list. Then we'll use the [scipy KDTree](https://docs.scipy.org/doc/scipy/reference/generated/scipy.spatial.KDTree.html) data structure to quickly search for the vectors closest to a series of words.\n",
    "\n",
    "### Loading embeddings\n",
    "\n",
    "#### Question: \n",
    ">* load embedding vectors from the file `data/collobert_embeddings.txt` using the numpy function [genfromtxt](https://numpy.org/doc/stable/reference/generated/numpy.genfromtxt.html)\n",
    ">* load the words associated with the vectors from the `data/collobert_words.lst` file into a python list (using `open()` and `readlines()`)\n",
    ">* check that the sizes are correct\n"
   ]
  },
  {
   "cell_type": "code",
   "execution_count": 9,
   "metadata": {},
   "outputs": [
    {
     "name": "stdout",
     "output_type": "stream",
     "text": [
      "Preview embeddings: \n",
      " [[-1.03682    1.77856   -0.693547   1.5948     1.5799     0.859243\n",
      "   1.15221   -0.976317   0.745304  -0.494589   0.308086   0.25239\n",
      "  -0.1976     1.26203    0.813864  -0.940734  -0.215163   0.11645\n",
      "   0.525697   1.95766    0.394232   1.27717    0.710788  -0.389351\n",
      "   0.161775  -0.106038   1.14148    0.607948   0.189781  -1.06022\n",
      "   0.280702   0.0251156 -0.198067   2.33027    0.408584   0.350751\n",
      "  -0.351293   1.77318   -0.723457  -0.13806   -1.47247    0.541779\n",
      "  -2.57005   -0.227714  -0.817816  -0.552209   0.360149  -0.10278\n",
      "  -0.36428   -0.64853  ]\n",
      " [-2.19067    1.16642   -1.91385   -0.269672   0.712771  -0.623024\n",
      "  -3.20115    0.560895   0.891554   0.145258   1.26956   -0.221078\n",
      "  -0.0733777  2.08072   -3.30558   -0.727272  -0.902202  -1.84578\n",
      "  -1.38985   -0.0791954  0.989769  -1.34631    1.10242   -1.59836\n",
      "  -1.37341   -1.42038    0.238941  -2.98729   -0.730938   0.267584\n",
      "   0.0560677 -0.722721   2.23752   -2.99094   -1.45598   -0.645446\n",
      "   0.278277   2.28877   -0.926191   2.89934   -1.17254    1.38449\n",
      "   2.38617   -0.0838845 -1.80698    0.622097   0.223875   0.870654\n",
      "  -0.33808   -0.41957  ]]\n",
      "Preview associated words: \n",
      " ['adenosine', 'meekatharra', 'asdic']\n"
     ]
    }
   ],
   "source": [
    "import numpy as np\n",
    "# YOUR CODE HERE\n",
    "\n",
    "# Collobert embeddings\n",
    "col_emb = np.genfromtxt(\"data/collobert_embeddings.txt\")\n",
    "print(\"Preview embeddings:\", \"\\n\", col_emb[:2])\n",
    "\n",
    "# Collobert words\n",
    "import random\n",
    "col_words = [w.strip() for w in open('data/collobert_words.lst').readlines()]\n",
    "print(\"Preview associated words:\", \"\\n\", random.sample(col_words, 3))"
   ]
  },
  {
   "cell_type": "markdown",
   "metadata": {},
   "source": [
    "KD trees are a very efficient data structure for storing large sets of points in a multi-dimensional space and performing very efficient nearest-neighbour searches. \n",
    "\n",
    "#### Question \n",
    "> * Initialise the [KDTree](https://docs.scipy.org/doc/scipy/reference/generated/scipy.spatial.KDTree.html) structure with Collobert's embedding vectors.\n",
    "> * Using the [tree.query](https://docs.scipy.org/doc/scipy/reference/generated/scipy.spatial.KDTree.query.html#scipy.spatial.KDTree.query) function, display the 5 nearest words for the following words: ‘mother’, ‘computer’, ‘dentist’, ‘war’, ‘president’, ‘secretary’, ‘nurse’.  *Hint: you can use the function `collobert_words.index(w)` to obtain the index of a word in the list of words*.\n",
    "> * Create a `words_plus_neighbors` list containing the words and all their neighbours (for the next question)"
   ]
  },
  {
   "cell_type": "code",
   "execution_count": 10,
   "metadata": {},
   "outputs": [
    {
     "name": "stdout",
     "output_type": "stream",
     "text": [
      "'mother' index:  76518 \n",
      " 'computer' index:  25035 \n",
      " 'dentist' index:  30873 \n",
      " 'war' index:  125157 \n",
      " 'president' index:  91285 \n",
      " 'secretary' index:  103110 \n",
      " 'nurse' index:  81489 \n",
      "\n",
      "['mother', 'daughter', 'wife', 'father', 'husband', 'son', 'computer', 'laptop', 'multimedia', 'desktop', 'software', 'wiki', 'dentist', 'pharmacist', 'midwife', 'physician', 'housekeeper', 'veterinarian', 'war', 'revolution', 'death', 'court', 'independence', 'history', 'president', 'governor', 'chairman', 'mayor', 'secretary', 'senator', 'secretary', 'minister', 'treasurer', 'chairman', 'commissioner', 'undersecretary', 'nurse', 'physician', 'veterinarian', 'dentist', 'surgeon', 'midwife']\n"
     ]
    }
   ],
   "source": [
    "from scipy import spatial\n",
    "# # YOUR CODE HERE\n",
    "\n",
    "# KD Tree Collobert vectors\n",
    "tree = spatial.KDTree(col_emb)\n",
    "\n",
    "# 5 NNs\n",
    "# # Print the index of the words in the list\n",
    "print(\"'mother' index: \", col_words.index('mother'), \"\\n\",\n",
    "      \"'computer' index: \", col_words.index('computer'), \"\\n\",\n",
    "      \"'dentist' index: \", col_words.index('dentist'), \"\\n\",\n",
    "      \"'war' index: \", col_words.index('war'), \"\\n\",\n",
    "      \"'president' index: \", col_words.index('president'), \"\\n\",\n",
    "      \"'secretary' index: \", col_words.index('secretary'), \"\\n\",\n",
    "      \"'nurse' index: \", col_words.index('nurse'), \"\\n\",)\n",
    "# # Create the list of words\n",
    "words = ['mother','computer','dentist','war','president', 'secretary', 'nurse']\n",
    "# # Store their index in the Collobert word list\n",
    "index_points = [col_words.index(w) for w in ['mother','computer','dentist','war','president', 'secretary', 'nurse']]\n",
    "# # Create the words_plus_neighbors list of all words and their 5 NNs\n",
    "words_plus_neighbors = []\n",
    "for i in index_points:\n",
    "    dist, index = tree.query(col_emb[i], 6) # Query the distances to and index of the 5 NNs for each word in the list\n",
    "    nb = [col_words[j] for j in index] # Create the list all words and neighbours\n",
    "    words_plus_neighbors += nb\n",
    "    \n",
    "print(words_plus_neighbors)"
   ]
  },
  {
   "cell_type": "markdown",
   "metadata": {},
   "source": [
    "### Visualisation with T-SNE\n",
    "\n",
    "Embeddings are vectors with several hundred dimensions. It is therefore not possible to display them in their original space. However, it is possible to apply dimension reduction algorithms to display them in 2 or 3 dimensions. One of the dimension reduction algorithms allowing 2D visualisation is [tSNE](https://en.wikipedia.org/wiki/T-distributed_stochastic_neighbor_embedding). \n",
    "\n",
    "#### Question\n",
    "> * Create a `word_vectors` object of type `np.array` from a list containing all the embeddings of the words in the `words_plus_neighbors` list.\n",
    "> * Create a tSNE object from the `from sklearn.manifold import TSNE` library with the parameters `random_state=0`, `n_iter=2000` and `perplexity=15.0` for a 2-dimensional view.\n",
    "> * Calculate *T* the tSNE transformation of the `word_vectors` by applying function `.fit_transform(word_vectors)` to the tSNE object. This function estimates the parameters of the tSNE transformation and returns the reduced-dimension representation of the vectors used for estimation.\n",
    "> * Use the `scatterplot` function from [seaborn](https://seaborn.pydata.org/generated/seaborn.scatterplot.html) to represent points in 2 dimensions and add word labels using the `plt.annotate` function."
   ]
  },
  {
   "cell_type": "code",
   "execution_count": 39,
   "metadata": {},
   "outputs": [
    {
     "data": {
      "image/png": "[encoded data removed]",
      "text/plain": [
       "<Figure size 1400x800 with 1 Axes>"
      ]
     },
     "metadata": {},
     "output_type": "display_data"
    }
   ],
   "source": [
    "from sklearn.manifold import TSNE\n",
    "# graphics\n",
    "import matplotlib.pyplot as plt\n",
    "# display matplotlib graphics in notebook\n",
    "%matplotlib inline \n",
    "import seaborn as sns\n",
    "\n",
    "# retrieve the word representation\n",
    "# YOUR CODE HERE\n",
    "index_points = [col_words.index(w) for w in words_plus_neighbors]\n",
    "word_vectors = np.array(col_emb[index_points])\n",
    "\n",
    "# create the tSNE transform\n",
    "# YOUR CODE HERE\n",
    "tsne = TSNE(n_components=2, random_state=0, n_iter=2000, perplexity=15.0)\n",
    "\n",
    "# fit and transform the word vectors, store in T\n",
    "# YOUR CODE HERE\n",
    "T = tsne.fit_transform(word_vectors)\n",
    "\n",
    "# plot\n",
    "fig = plt.figure()\n",
    "fig.patch.set_facecolor('#f9f9f9')\n",
    "\n",
    "sns.set(rc={'figure.figsize':(14, 8)})\n",
    "sns.set(font_scale=1)\n",
    "\n",
    "sns.scatterplot(x=T[:, 0], y=T[:, 1])\n",
    "\n",
    "for label, x, y in zip(words_plus_neighbors, T[:, 0], T[:, 1]):\n",
    "    plt.annotate(label, xy=(x+1, y+1), xytext=(0, 0), textcoords='offset points')\n",
    "\n"
   ]
  },
  {
   "cell_type": "markdown",
   "metadata": {},
   "source": [
    "### Semantic arithmetic\n",
    "\n",
    "One of the most original properties of Word2Vec embeddings is that the semantic relationships between vectors can be modelled by arithmetic operations. Given vectors representing the words `king`, `man` and `woman`, it is possible to compute the vector `v` as :  \n",
    "\n",
    "`v = vector(king)-vector(man)+vector(woman)`\n",
    "\n",
    "This operation corresponds to the following semantic relationship: *The king is to the man what the queen is to the woman*, which translates into the following arithmetic: *the concept of king, minus the concept of man plus the concept of woman gives the concept of queen*.\n",
    "\n",
    "In fact, if we look in the embedding for the word whose closest vector is `v`, we find `reine`.\n",
    "\n",
    "\n",
    "We will use a Word2Vec model pre-trained on the French Wac corpus.  This model has been trained on a corpus of 1 billion French words. \n",
    "\n",
    "This embedding is available in 2 formats:\n",
    "- a text format for easy exploration of the model :\n",
    "    - frWac_non_lem_no_postag_no_phrase_200_cbow_cut100.txt](https://storage.teklia.com/shared/deepnlp-labs/frWac_non_lem_no_postag_no_phrase_200_cbow_cut100.txt)\n",
    "- a binary format that can be loaded using the Gensim library: \n",
    "    - [enWac_non_lem_no_postag_no_phrase_200_cbow_cut100.bin](https://storage.teklia.com/shared/deepnlp-labs/frWac_non_lem_no_postag_no_phrase_200_cbow_cut100.bin)\n",
    "\n",
    "Download the text file onto your machine to analyse it.\n",
    "\n",
    "#### Question: \n",
    ">* Add the file to your .gitignore\n",
    ">* Give the size in Mb of the embedding files\n",
    ">* By exploring the contents of the embedding file in text format, give the number of words for which this model provides embeddings and the size of the embedding for each word.\n",
    "\n"
   ]
  },
  {
   "cell_type": "markdown",
   "metadata": {},
   "source": [
    "YOUR ANSWER HERE\n",
    "\n",
    "The Gensim file is 120Mb.\n",
    "\n",
    "The embeddings size is 200."
   ]
  },
  {
   "cell_type": "markdown",
   "metadata": {},
   "source": [
    "### Word similarity\n",
    "\n",
    "We are now going to use the [Gensim] library (https://radimrehurek.com/gensim/) to load the Word2Vec model and use it. \n",
    "\n",
    "#### Question: \n",
    ">* Modify the following code to load the Word2Vec template file in binary format using [load_word2vec](https://radimrehurek.com/gensim/models/keyedvectors.html#how-to-obtain-word-vectors)\n",
    ">* Choose a couple of words and find the closest words according to the model using [most_similar](https://radimrehurek.com/gensim/models/keyedvectors.html#gensim.models.keyedvectors.KeyedVectors.most_similar)\n",
    ">* To guess the meaning of the words ‘yokohama’, ‘kanto’ and ‘shamisen’, look for their nearest neighbours. Explain the results.\n"
   ]
  },
  {
   "cell_type": "code",
   "execution_count": 26,
   "metadata": {},
   "outputs": [
    {
     "name": "stderr",
     "output_type": "stream",
     "text": [
      "05:19:44 INFO:loading projection weights from data/frWac_non_lem_no_postag_no_phrase_200_cbow_cut100.bin\n",
      "05:19:45 INFO:KeyedVectors lifecycle event {'msg': 'loaded (155562, 200) matrix of type float32 from data/frWac_non_lem_no_postag_no_phrase_200_cbow_cut100.bin', 'binary': True, 'encoding': 'utf8', 'datetime': '2025-02-21T17:19:45.496436', 'gensim': '4.3.3', 'python': '3.11.9 (tags/v3.11.9:de54cf5, Apr  2 2024, 10:12:12) [MSC v.1938 64 bit (AMD64)]', 'platform': 'Windows-10-10.0.26100-SP0', 'event': 'load_word2vec_format'}\n"
     ]
    },
    {
     "data": {
      "text/plain": [
       "[('tokyo', 0.7117858529090881),\n",
       " ('tôkyô', 0.6314416527748108),\n",
       " ('japon', 0.621522068977356),\n",
       " ('nagoya', 0.6198478937149048),\n",
       " ('kyushu', 0.6141085028648376),\n",
       " ('osaka', 0.6123895645141602),\n",
       " ('fukuoka', 0.5612888932228088),\n",
       " ('japonaise', 0.5507326126098633),\n",
       " ('sendai', 0.5496150255203247),\n",
       " ('japonais', 0.5391373038291931)]"
      ]
     },
     "execution_count": 26,
     "metadata": {},
     "output_type": "execute_result"
    }
   ],
   "source": [
    "import gensim\n",
    "from gensim.models import KeyedVectors\n",
    "\n",
    "## YOUR CODE HERE\n",
    "embedding_file =\"data/frWac_non_lem_no_postag_no_phrase_200_cbow_cut100.bin\"\n",
    "model = KeyedVectors.load_word2vec_format(embedding_file, binary=True, unicode_errors=\"ignore\")\n",
    "# YOUR CODE HERE\n",
    "model.most_similar(\"yokohama\")\n",
    "# model.most_similar(\"kanto\")\n",
    "# model.most_similar(\"shamisen\")"
   ]
  },
  {
   "cell_type": "markdown",
   "metadata": {},
   "source": [
    "### Semantic arithmetic\n",
    "\n",
    "One of the most original properties of Word2Vec embeddings is that the semantic relationships between vectors can be modelled by arithmetic operations. Given vectors representing the words `king`, `man` and `woman`, it is possible to compute the vector `v` as :  \n",
    "\n",
    "`v = vector(king)-vector(man)+vector(woman)`\n",
    "\n",
    "This operation corresponds to the following semantic relationship: *The king is to the man what the queen is to the woman*, which translates into the following arithmetic: *the concept of king, minus the concept of man plus the concept of woman gives the concept of queen*.\n",
    "\n",
    "In fact, if we look in the embedding for the word whose closest vector is `v`, we find `reine`.\n",
    "\n",
    "#### Question: \n",
    ">* using the function [most_similar](https://radimrehurek.com/gensim/models/keyedvectors.html#gensim.models.keyedvectors.KeyedVectors.most_similar) specifying the arguments `positive` for the vectors to be added and `negative` for the vectors to be subtracted, check the relationship *the concept of king, minus the concept of man plus the concept of woman gives the concept of queen*.\n",
    ">* Using the same method, find XXX in the following semantic relations\n",
    ">   * Paris is to France what XXX is to Japan.\n",
    ">   * Chevalier is to France what XXX is to Japan."
   ]
  },
  {
   "cell_type": "code",
   "execution_count": 30,
   "metadata": {},
   "outputs": [
    {
     "data": {
      "text/plain": [
       "[('samouraï', 0.5616667866706848)]"
      ]
     },
     "execution_count": 30,
     "metadata": {},
     "output_type": "execute_result"
    }
   ],
   "source": [
    "model.most_similar(positive=['roi', 'femme'], negative=['homme'], topn=1)\n",
    "model.most_similar(positive=['paris', 'japon'], negative=['france'], topn=1)\n",
    "model.most_similar(positive=['chevalier', 'japon'], negative=['france'], topn=1)"
   ]
  },
  {
   "cell_type": "markdown",
   "metadata": {},
   "source": [
    "## Evaluation of BERT embeddings\n",
    "\n",
    "BERT was one of the first freely available Transformer language models, trained on large corpora. Many other models are available on HuggingFace.\n",
    "\n",
    "As BERT is a contextual model, it is necessary to have it predict whole sentences in order to study the word embeddings it produces. In this section, we will compare the embeddings obtained for polysemous words according to the sentence in which they are used.\n",
    "\n",
    "In English, *plant* has two meanings: plant and vegetable. With a non-contextual embedding, such as Glove or Colobert, these two meanings of the word plus are associated with an identical embedding. With BERT, we'll see that the same word can have several embeddings depending on the context.\n",
    "\n",
    "First, load the BERT model and tokenizer from HuggingFace : "
   ]
  },
  {
   "cell_type": "code",
   "execution_count": 31,
   "metadata": {},
   "outputs": [
    {
     "data": {
      "text/plain": [
       "BertModel(\n",
       "  (embeddings): BertEmbeddings(\n",
       "    (word_embeddings): Embedding(30522, 768, padding_idx=0)\n",
       "    (position_embeddings): Embedding(512, 768)\n",
       "    (token_type_embeddings): Embedding(2, 768)\n",
       "    (LayerNorm): LayerNorm((768,), eps=1e-12, elementwise_affine=True)\n",
       "    (dropout): Dropout(p=0.1, inplace=False)\n",
       "  )\n",
       "  (encoder): BertEncoder(\n",
       "    (layer): ModuleList(\n",
       "      (0-11): 12 x BertLayer(\n",
       "        (attention): BertAttention(\n",
       "          (self): BertSdpaSelfAttention(\n",
       "            (query): Linear(in_features=768, out_features=768, bias=True)\n",
       "            (key): Linear(in_features=768, out_features=768, bias=True)\n",
       "            (value): Linear(in_features=768, out_features=768, bias=True)\n",
       "            (dropout): Dropout(p=0.1, inplace=False)\n",
       "          )\n",
       "          (output): BertSelfOutput(\n",
       "            (dense): Linear(in_features=768, out_features=768, bias=True)\n",
       "            (LayerNorm): LayerNorm((768,), eps=1e-12, elementwise_affine=True)\n",
       "            (dropout): Dropout(p=0.1, inplace=False)\n",
       "          )\n",
       "        )\n",
       "        (intermediate): BertIntermediate(\n",
       "          (dense): Linear(in_features=768, out_features=3072, bias=True)\n",
       "          (intermediate_act_fn): GELUActivation()\n",
       "        )\n",
       "        (output): BertOutput(\n",
       "          (dense): Linear(in_features=3072, out_features=768, bias=True)\n",
       "          (LayerNorm): LayerNorm((768,), eps=1e-12, elementwise_affine=True)\n",
       "          (dropout): Dropout(p=0.1, inplace=False)\n",
       "        )\n",
       "      )\n",
       "    )\n",
       "  )\n",
       "  (pooler): BertPooler(\n",
       "    (dense): Linear(in_features=768, out_features=768, bias=True)\n",
       "    (activation): Tanh()\n",
       "  )\n",
       ")"
      ]
     },
     "execution_count": 31,
     "metadata": {},
     "output_type": "execute_result"
    }
   ],
   "source": [
    "import torch\n",
    "from transformers import BertTokenizer, BertModel\n",
    "tokenizer = BertTokenizer.from_pretrained('bert-base-uncased')\n",
    "# Load pre-trained model \n",
    "model = BertModel.from_pretrained('bert-base-uncased',\n",
    "                                  output_hidden_states = True, # to access the hidden states\n",
    "                                  )\n",
    "# set the model to \"evaluation\" mode\n",
    "model.eval()"
   ]
  },
  {
   "cell_type": "markdown",
   "metadata": {},
   "source": [
    "### Tokenizer\n",
    "\n",
    "Language models are trained with a specific breakdown of sentences into tokens. These tokens can be words or parts of words. It is necessary to use the tokenizer corresponding to each model.\n",
    "\n",
    "```tokenizer.vocab.keys()``` gives the list of all the tokens known for the language model. \n",
    "\n",
    "#### Question\n",
    ">* How many different tokens are known to the BERT tokenizer?\n",
    ">* Display a hundred tokens at random. What do you find?"
   ]
  },
  {
   "cell_type": "code",
   "execution_count": 15,
   "metadata": {},
   "outputs": [
    {
     "data": {
      "text/plain": [
       "['##rdan',\n",
       " 'non',\n",
       " '##ichi',\n",
       " 'thru',\n",
       " 'julien',\n",
       " 'density',\n",
       " '##lson',\n",
       " 'rustic',\n",
       " 'nightfall',\n",
       " '##fe',\n",
       " 'leasing',\n",
       " 'injuries',\n",
       " 'espn',\n",
       " 'sexual',\n",
       " 'relied',\n",
       " 'geschichte',\n",
       " 'simon',\n",
       " '331',\n",
       " '伊',\n",
       " 'aggravated',\n",
       " 'booming',\n",
       " 'cards',\n",
       " 'bay',\n",
       " 'mcmillan',\n",
       " 'riding',\n",
       " 'shaved',\n",
       " 'remember',\n",
       " 'yo',\n",
       " 'librarian',\n",
       " 'lds',\n",
       " '##otte',\n",
       " 'textbook',\n",
       " 'caledonia',\n",
       " 'fur',\n",
       " 'scientist',\n",
       " 'dryly',\n",
       " 'motorsport',\n",
       " 'marguerite',\n",
       " '##ʊ',\n",
       " '1867',\n",
       " 'ai',\n",
       " 'put',\n",
       " 'გ',\n",
       " 'individuals',\n",
       " 'hicks',\n",
       " 'ink',\n",
       " '##ivision',\n",
       " 'yang',\n",
       " 'moved',\n",
       " 'step',\n",
       " 'minutes',\n",
       " 'metropolitan',\n",
       " 'swayed',\n",
       " '##×',\n",
       " '##sted',\n",
       " 'occasional',\n",
       " 'tempted',\n",
       " '##nte',\n",
       " '##drich',\n",
       " 'threatened',\n",
       " '05',\n",
       " '##tics',\n",
       " 'vicky',\n",
       " 'cruising',\n",
       " '##ය',\n",
       " 'popcorn',\n",
       " 'lasers',\n",
       " 'decorate',\n",
       " 'planners',\n",
       " 'casa',\n",
       " 'azerbaijani',\n",
       " 'disappeared',\n",
       " '##erman',\n",
       " 'fling',\n",
       " 'owen',\n",
       " '##yan',\n",
       " '新',\n",
       " 'scheme',\n",
       " 'knock',\n",
       " 'wound',\n",
       " 'decided',\n",
       " 'creed',\n",
       " 'galway',\n",
       " 'cool',\n",
       " 'menace',\n",
       " 'cheeks',\n",
       " 'intensive',\n",
       " '##rio',\n",
       " '##マ',\n",
       " 'partially',\n",
       " '##oed',\n",
       " 'ambition',\n",
       " 'hiram',\n",
       " '36th',\n",
       " 'treasurer',\n",
       " 'monitored',\n",
       " 'insights',\n",
       " '##rave',\n",
       " 'anson',\n",
       " 'formerly']"
      ]
     },
     "execution_count": 15,
     "metadata": {},
     "output_type": "execute_result"
    }
   ],
   "source": [
    "import random\n",
    "# number of token in tokenizer\n",
    "# YOU CODE HERE\n",
    "len(tokenizer.vocab.keys())\n",
    "# sample of 100 tokens\n",
    "random.sample(list(tokenizer.vocab.keys()), 100)\n"
   ]
  },
  {
   "cell_type": "markdown",
   "metadata": {},
   "source": [
    "The tokenizer splits sentences and transforms the elements (words or sub-words) into clues. \n",
    "\n",
    "BERT can process several sentences, but you need to tell it how the sentences (segments) have been split, with an index: 0 for the first sentence, 1 for the second. \n",
    "\n",
    "Two specific tokens must also be added: \n",
    "* CLS], a specific token used for sentence classification\n",
    "* SEP], the end of sentence token.\n",
    "\n",
    "#### Question\n",
    ">* Apply the bert_tokenize function to the 3 phases and keep the 3 vectors (index, token, segment).\n",
    ">* Display this information for each of the sentences and check that the word *plant* has the same token index in the two sentences in which it appears."
   ]
  },
  {
   "cell_type": "code",
   "execution_count": 33,
   "metadata": {},
   "outputs": [
    {
     "name": "stdout",
     "output_type": "stream",
     "text": [
      "1 [CLS]           101\n",
      "1 the           1,996\n",
      "1 plant         3,269\n",
      "1 has           2,038\n",
      "1 reached       2,584\n",
      "1 its           2,049\n",
      "1 maximal      29,160\n",
      "1 level         2,504\n",
      "1 of            1,997\n",
      "1 production    2,537\n",
      "1 .             1,012\n",
      "1 [SEP]           102\n"
     ]
    }
   ],
   "source": [
    "snt1 = \"The plant has reached its maximal level of production.\"\n",
    "snt2 = \"The cars are assembled inside the factory.\"\n",
    "snt3 = \"A plant needs sunlight and water to grow well.\"\n",
    "\n",
    "\n",
    "def bert_tokenize(snt):\n",
    "    \"\"\" Apply the BERT tokenizer to a list of words representing a sentence\n",
    "        and return 3 lists: \n",
    "        - list of token indx\n",
    "        - list of token for debugging, not used by the BERT model\n",
    "        - list of sentence index\n",
    "        \"\"\"\n",
    "    # Add the special tokens.\n",
    "    tagged_snt = \"[CLS] \" + snt + \" [SEP]\" \n",
    "    # Tokenize\n",
    "    tokenized_snt = tokenizer.tokenize(tagged_snt)\n",
    "    # convert tokens to indices\n",
    "    indexed_snt = tokenizer.convert_tokens_to_ids(tokenized_snt)\n",
    "    # mark the words in sentence.\n",
    "    segments_ids = [1] * len(tokenized_snt)\n",
    "\n",
    "    return (indexed_snt, tokenized_snt, segments_ids)\n",
    "\n",
    "# YOUR CODE HERE\n",
    "ind1, tok1, pos1 = bert_tokenize(snt1)\n",
    "ind2, tok2, pos2 = bert_tokenize(snt2)\n",
    "ind3, tok3, pos3 = bert_tokenize(snt3)\n",
    "# Display the words and their indices.\n",
    "for token, index, pos in zip(tok1, ind1, pos1):\n",
    "    print('{} {:<12} {:>6,}'.format(pos, token, index))\n"
   ]
  },
  {
   "cell_type": "markdown",
   "metadata": {},
   "source": [
    "## Inference\n",
    "\n",
    "To calculate embeddings, we need to make a prediction using the BERT model on a complete sentence. The *predict_hidden* function converts the token and segment index lists into a pytorch tensor and applies the model. \n",
    "\n",
    "The model used is a 12-layer model. We will use the last hidden layer of the model as an embedding to represent the words. Other solutions are possible, such as concatenation or averaging of several layers.\n",
    "\n",
    "\n",
    "#### Question\n",
    ">* Apply the model to each of the 3 sentences and store the resulting embeddings (tensors).\n",
    ">* Display the dimension of the resulting tensors. What is the dimension of the embedding vector for each word?"
   ]
  },
  {
   "cell_type": "code",
   "execution_count": 34,
   "metadata": {},
   "outputs": [
    {
     "data": {
      "text/plain": [
       "([101, 1996, 3269, 2038, 2584, 2049, 29160, 2504, 1997, 2537, 1012, 102],\n",
       " ['[CLS]',\n",
       "  'the',\n",
       "  'plant',\n",
       "  'has',\n",
       "  'reached',\n",
       "  'its',\n",
       "  'maximal',\n",
       "  'level',\n",
       "  'of',\n",
       "  'production',\n",
       "  '.',\n",
       "  '[SEP]'],\n",
       " [1, 1, 1, 1, 1, 1, 1, 1, 1, 1, 1, 1])"
      ]
     },
     "execution_count": 34,
     "metadata": {},
     "output_type": "execute_result"
    }
   ],
   "source": [
    "snt1_tokenized"
   ]
  },
  {
   "cell_type": "code",
   "execution_count": 35,
   "metadata": {},
   "outputs": [
    {
     "name": "stdout",
     "output_type": "stream",
     "text": [
      "torch.Size([12, 768])\n",
      "torch.Size([10, 768])\n",
      "torch.Size([12, 768])\n"
     ]
    }
   ],
   "source": [
    "\n",
    "def predict_hidden(indexed_snt, segments_ids):\n",
    "    \"\"\"Apply the BERT model to the input token indices and segment indices\n",
    "        and return the last hidden layer\n",
    "    \"\"\"\n",
    "    with torch.no_grad():\n",
    "        # Convert inputs to PyTorch tensors\n",
    "        tokens_tensor = torch.tensor([indexed_snt])\n",
    "        segments_tensors = torch.tensor([segments_ids])\n",
    "        outputs = model(tokens_tensor, segments_tensors)\n",
    "        hidden_states = outputs[2]\n",
    "        one_hidden_layer = hidden_states[12][0]\n",
    "        \n",
    "    return one_hidden_layer\n",
    "\n",
    "# YOUR CODE HERE\n",
    "emb1 = predict_hidden(ind1, pos1)\n",
    "print (emb1.size())\n",
    "emb2 = predict_hidden(ind2, pos2)\n",
    "print (emb2.size())\n",
    "emb3 = predict_hidden(ind3, pos3)\n",
    "print (emb3.size())\n"
   ]
  },
  {
   "cell_type": "markdown",
   "metadata": {},
   "source": [
    "The hidden layer returned by the *predict_hidden* function is a tensor containing a context vector representing each token in the input sentence. We can use this vector to represent the meaning of this word as a function of its context. We're going to compare the representation of the polysemous word *plant* as a function of its context.\n",
    "\n",
    "#### Question\n",
    ">* Using the [cosine distance](https://docs.scipy.org/doc/scipy/reference/generated/scipy.spatial.distance.cosine.html), calculate the following distances:\n",
    "> * distance between *plant* in sentence 1 (plant-factory) and *plant* in sentence 3 (plant-vegetal)\n",
    "> * distance between *plant* in sentence 1 (plant-factory) and *factory* in sentence 2 (plant-vegetal) \n",
    "> * distance between *plant* in sentence 1 (plant-factory) and *production* in sentence 2 \n",
    "> distance between *plant* in sentence 3 (plant-vegetal) and *production* in sentence 2 \n",
    "> How can we interpret these distances?"
   ]
  },
  {
   "cell_type": "code",
   "execution_count": 24,
   "metadata": {},
   "outputs": [
    {
     "name": "stdout",
     "output_type": "stream",
     "text": [
      "distance plant-factory versus plant vegetal 0.649196450224691\n",
      "distance plant-factory versus factory 0.31225686446735756\n",
      "distance plant-factory versus production 0.24017341179664298\n",
      "distance plant-vegetal versus production 0.6917183941332719\n"
     ]
    }
   ],
   "source": [
    "from scipy.spatial.distance import cosine\n",
    "\n",
    "# YOUR CODE HERE\n",
    "print (\"distance plant-factory versus plant vegetal\", cosine(emb1[2],emb3[1]))\n",
    "print (\"distance plant-factory versus factory\", cosine(emb1[2],emb2[7]))\n",
    "print (\"distance plant-factory versus production\", cosine(emb1[2],emb1[9]))\n",
    "print (\"distance plant-vegetal versus production\", cosine(emb3[1],emb1[9]))"
   ]
  }
 ],
 "metadata": {
  "kernelspec": {
   "display_name": "Python 3 (ipykernel)",
   "language": "python",
   "name": "python3"
  },
  "language_info": {
   "codemirror_mode": {
    "name": "ipython",
    "version": 3
   },
   "file_extension": ".py",
   "mimetype": "text/x-python",
   "name": "python",
   "nbconvert_exporter": "python",
   "pygments_lexer": "ipython3",
   "version": "3.12.9"
  }
 },
 "nbformat": 4,
 "nbformat_minor": 4
}
